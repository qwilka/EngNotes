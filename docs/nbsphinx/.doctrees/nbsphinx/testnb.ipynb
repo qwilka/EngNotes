{
 "cells": [
  {
   "cell_type": "markdown",
   "metadata": {},
   "source": [
    "# Linear models for classification problems\n",
    "\n",
    "![Linear (logistic) classification](images/linear_logistic.png)\n",
    "\n",
    "Given a training set of $N$ samples, $D = \\{(\\boldsymbol{x_1} , y_1 ), \\ldots , (\\boldsymbol{x_N} , y_N )\\}$ , where $\\boldsymbol{x_i}$ is a multidimensional input vector with dimension $P$ and class label (target or response).\n",
    "\n",
    "Multiclass Classification problems can be seen as several binary classification problems $y_i \\in \\{0, 1\\}$ where the classifier aims to discriminate the sample of the current class (label 1) versus the samples of other classes (label 0).\n",
    "\n",
    "Therfore, for each class the classifier seek for a vector of parameters $\\boldsymbol{w}$ that performs a linear combination of the input variables, $\\boldsymbol{x}^T \\boldsymbol{w}$. This step performs a **projection** or a **rotation** of input sample into a good discriminative one-dimensional sub-space, that best discriminate sample of current class vs sample of other classes.\n",
    "\n",
    "This score (a.k.a decision function) is tranformed, using the nonlinear activation funtion $f(.)$,  to a \"posterior probabilities\" of class 1: $p(y=1|\\boldsymbol{x}) = f(\\boldsymbol{x}^T \\boldsymbol{w})$, where, $p(y=1|\\boldsymbol{x}) = 1 - p(y=0|\\boldsymbol{x})$.\n",
    "\n",
    "The decision surfaces (orthogonal hyperplan to $\\boldsymbol{w}$) correspond to $f(x)=\\text{constant}$, so that $\\boldsymbol{x}^T \\boldsymbol{w}=\\text{constant}$ and hence the decision surfaces are linear functions of $\\boldsymbol{x}$, even if the function $f(.)$ is nonlinear.\n",
    "\n",
    "A thresholding of the activation (shifted by the bias or intercept) provides the predicted class label.\n",
    "\n",
    "The vector of parameters, that defines the discriminative axis, minimizes an **objective function** $J(\\boldsymbol{w})$ that is a sum of of **loss function** $L(\\boldsymbol{w})$ and some penalties on the weights vector $\\Omega(\\boldsymbol{w})$.\n",
    "$$\n",
    "\\min_{\\boldsymbol{w}}~J = \\sum_i L(y_i, f(\\boldsymbol{x_i}^T\\boldsymbol{w})) + \\Omega(\\boldsymbol{w}),\n",
    "$$"
   ]
  },
  {
   "cell_type": "code",
   "execution_count": 1,
   "metadata": {
    "execution": {
     "iopub.execute_input": "2021-05-26T10:31:00.078904Z",
     "iopub.status.busy": "2021-05-26T10:31:00.076410Z",
     "iopub.status.idle": "2021-05-26T10:31:13.408333Z",
     "shell.execute_reply": "2021-05-26T10:31:13.405532Z"
    }
   },
   "outputs": [],
   "source": [
    "%matplotlib inline\n",
    "\n",
    "import numpy as np\n",
    "import pandas as pd\n",
    "import matplotlib.pyplot as plt\n",
    "\n",
    "from sklearn import datasets\n",
    "import sklearn.linear_model as lm\n",
    "import sklearn.metrics as metrics\n",
    "\n",
    "np.set_printoptions(precision=2)\n",
    "pd.set_option('precision', 2)"
   ]
  },
  {
   "cell_type": "markdown",
   "metadata": {},
   "source": [
    "## Fisher's linear discriminant with equal class covariance\n",
    "\n",
    "This geometric method does not make any probabilistic assumptions, instead it relies on distances. It looks for the **linear projection** of the data points onto a vector, $\\boldsymbol{w}$, that maximizes the between/within variance ratio, denoted $F(\\boldsymbol{w})$. Under a few assumptions, it will provide the same results as linear discriminant analysis (LDA), explained below.\n",
    "\n",
    "Suppose two classes of observations, $C_0$ and $C_1$, have means $\\boldsymbol{\\mu_0}$ and $\\boldsymbol{\\mu_1}$ and the same total within-class scatter (\"covariance\") matrix,\n",
    "\n",
    "$$\n",
    "\\begin{align}\n",
    "    \\boldsymbol{S_W} &= \\sum_{i\\in C_0} (\\boldsymbol{x_i} - \\boldsymbol{\\mu_0})(\\boldsymbol{x_i} - \\boldsymbol{\\mu_0})^T + \\sum_{j\\in C_1} (\\boldsymbol{x_j} - \\boldsymbol{\\mu_1})(\\boldsymbol{x_j} -\\boldsymbol{\\mu_1})^T\\\\\n",
    "        &= \\boldsymbol{X_c}^T \\boldsymbol{X_c},\n",
    "\\end{align}\n",
    "$$\n",
    "\n",
    "where $\\boldsymbol{X_c}$ is the $(N \\times P)$ matrix of data centered on their respective means:\n",
    "\n",
    "$$\n",
    "\\boldsymbol{X_c} = \\begin{bmatrix}\n",
    "          \\boldsymbol{X_0} -  \\boldsymbol{\\mu_0} \\\\\n",
    "          \\boldsymbol{X_1} -  \\boldsymbol{\\mu_1} \n",
    "      \\end{bmatrix},\n",
    "$$\n",
    "\n",
    "where $\\boldsymbol{X_0}$ and $\\boldsymbol{X_1}$ are the $(N_0 \\times P)$ and $(N_1 \\times P)$ matrices of samples of classes $C_0$ and $C_1$.\n",
    "\n",
    "Let $\\boldsymbol{S_B}$ being the scatter \"between-class\" matrix, given by\n",
    "\n",
    "$$\n",
    "    \\boldsymbol{S_B} = (\\boldsymbol{\\mu_1} - \\boldsymbol{\\mu_0} )(\\boldsymbol{\\mu_1} - \\boldsymbol{\\mu_0} )^T.\n",
    "$$\n",
    "\n",
    "The linear combination of features $\\boldsymbol{w}^T x$ have means $\\boldsymbol{w}^T \\mu_i$ for $i=0,1$, and variance $\\boldsymbol{w}^T \n",
    "\\boldsymbol{X^T_c} \\boldsymbol{X_c} \\boldsymbol{w}$. Fisher defined the separation between these two distributions to be the ratio of the \n",
    "variance between the classes to the variance within the classes:\n",
    "\n",
    "$$\n",
    "\\begin{align}\n",
    "F_{\\text{Fisher}}(\\boldsymbol{w}) &= \\frac{\\sigma_{\\text{between}}^2}{\\sigma_{\\text{within}}^2}\\\\\n",
    "                     &= \\frac{(\\boldsymbol{w}^T \\boldsymbol{\\mu_1} - \\boldsymbol{w}^T \\boldsymbol{\\mu_0})^2}{\\boldsymbol{w}^T  X^T_c \\boldsymbol{X_c} \\boldsymbol{w}}\\\\\n",
    "                     &= \\frac{(\\boldsymbol{w}^T (\\boldsymbol{\\mu_1} - \\boldsymbol{\\mu_0}))^2}{\\boldsymbol{w}^T  X^T_c \\boldsymbol{X_c} \\boldsymbol{w}}\\\\ \n",
    "                     &= \\frac{\\boldsymbol{w}^T (\\boldsymbol{\\mu_1} - \\boldsymbol{\\mu_0}) (\\boldsymbol{\\mu_1} - \\boldsymbol{\\mu_0})^T w}{\\boldsymbol{w}^T X^T_c \\boldsymbol{X_c} \\boldsymbol{w}}\\\\\n",
    "                     &= \\frac{\\boldsymbol{w}^T \\boldsymbol{S_B} w}{\\boldsymbol{w}^T \\boldsymbol{S_W} \\boldsymbol{w}}.\n",
    "\\end{align}\n",
    "$$\n",
    "\n",
    "### The Fisher most discriminant projection\n",
    "\n",
    "In the two-class case, the maximum separation occurs by a projection on the $(\\boldsymbol{\\mu_1} - \\boldsymbol{\\mu_0})$ using the Mahalanobis \n",
    "metric $\\boldsymbol{S_W}^{-1}$, so that\n",
    "\n",
    "$$\n",
    "    \\boldsymbol{w} \\propto \\boldsymbol{S_W}^{-1}(\\boldsymbol{\\mu_1} - \\boldsymbol{\\mu_0}).\n",
    "$$\n",
    "\n",
    "#### Demonstration\n",
    "\n",
    "Differentiating $F_{\\text{Fisher}}(w)$ with respect to $w$ gives\n",
    "\n",
    "\\begin{align*}\n",
    "    \\nabla_{\\boldsymbol{w}}F_{\\text{Fisher}}(\\boldsymbol{w}) &= 0\\\\\n",
    "    \\nabla_{\\boldsymbol{w}}\\left(\\frac{\\boldsymbol{w}^T \\boldsymbol{S_B} w}{\\boldsymbol{w}^T \\boldsymbol{S_W} \\boldsymbol{w}}\\right) &= 0\\\\\n",
    "    (\\boldsymbol{w}^T \\boldsymbol{S_W} \\boldsymbol{w})(2 \\boldsymbol{S_B} \\boldsymbol{w}) - (\\boldsymbol{w}^T \\boldsymbol{S_B} \\boldsymbol{w})(2 \\boldsymbol{S_W} \\boldsymbol{w}) &= 0\\\\\n",
    "    (\\boldsymbol{w}^T \\boldsymbol{S_W} \\boldsymbol{w})(\\boldsymbol{S_B} \\boldsymbol{w}) &= (\\boldsymbol{w}^T \\boldsymbol{S_B} \\boldsymbol{w})(\\boldsymbol{S_W} \\boldsymbol{w})\\\\\n",
    "    \\boldsymbol{S_B} \\boldsymbol{w} &= \\frac{\\boldsymbol{w}^T \\boldsymbol{S_B} \\boldsymbol{w}}{\\boldsymbol{w}^T \\boldsymbol{S_W} \\boldsymbol{w}}(\\boldsymbol{S_W} \\boldsymbol{w})\\\\\n",
    "    \\boldsymbol{S_B} \\boldsymbol{w} &= \\lambda (\\boldsymbol{S_W} \\boldsymbol{w})\\\\\n",
    "    \\boldsymbol{S_W}^{-1}{\\boldsymbol{S_B}} \\boldsymbol{w} &= \\lambda  \\boldsymbol{w}.\n",
    "\\end{align*}\n",
    "\n",
    "Since we do not care about the magnitude of $\\boldsymbol{w}$, only its direction, we replaced the scalar factor $(\\boldsymbol{w}^T \\boldsymbol{S_B} \\boldsymbol{w}) / (\\boldsymbol{w}^T \\boldsymbol{S_W} \\boldsymbol{w})$ by $\\lambda$. \n",
    "\n",
    "In the multiple-class case, the solutions $w$ are determined by the eigenvectors of $\\boldsymbol{S_W}^{-1}{\\boldsymbol{S_B}}$ that correspond to the $K-1$ largest eigenvalues.\n",
    "\n",
    "However, in the two-class case (in which $\\boldsymbol{S_B} = (\\boldsymbol{\\mu_1} - \\boldsymbol{\\mu_0} )(\\boldsymbol{\\mu_1} - \\boldsymbol{\\mu_0} )^T$) it is easy to show that $\\boldsymbol{w} = \\boldsymbol{S_W}^{-1}(\\boldsymbol{\\mu_1} - \\boldsymbol{\\mu_0})$ is the unique eigenvector of $\\boldsymbol{S_W}^{-1}{\\boldsymbol{S_B}}$:\n",
    "\n",
    "\\begin{align*}\n",
    "    \\boldsymbol{S_W}^{-1}(\\boldsymbol{\\mu_1} - \\boldsymbol{\\mu_0} )(\\boldsymbol{\\mu_1} - \\boldsymbol{\\mu_0} )^T \\boldsymbol{w} &= \\lambda  \\boldsymbol{w}\\\\\n",
    "    \\boldsymbol{S_W}^{-1}(\\boldsymbol{\\mu_1} - \\boldsymbol{\\mu_0} )(\\boldsymbol{\\mu_1} - \\boldsymbol{\\mu_0} )^T \\boldsymbol{S_W}^{-1}(\\boldsymbol{\\mu_1} - \\boldsymbol{\\mu_0}) &= \\lambda  \\boldsymbol{S_W}^{-1}(\\boldsymbol{\\mu_1} - \\boldsymbol{\\mu_0}),\n",
    "\\end{align*}\n",
    "\n",
    "where here $\\lambda = (\\boldsymbol{\\mu_1} - \\boldsymbol{\\mu_0} )^T \\boldsymbol{S_W}^{-1}(\\boldsymbol{\\mu_1} - \\boldsymbol{\\mu_0})$. Which leads to the result\n",
    "\n",
    "$$\n",
    "\\boldsymbol{w} \\propto \\boldsymbol{S_W}^{-1}(\\boldsymbol{\\mu_1} - \\boldsymbol{\\mu_0}).\n",
    "$$\n",
    "\n",
    "### The separating hyperplane\n",
    "\n",
    "The separating hyperplane is a $P-1$-dimensional hyper surface, orthogonal to the projection vector, $w$. There is no single best way to find the origin of the plane along $w$, or equivalently the classification threshold that determines whether a point should be classified as belonging to $C_0$ or to $C_1$. However, if the projected points have roughly the same distribution, then the threshold can be chosen as the hyperplane exactly between the projections of the two means, i.e. as\n",
    "\n",
    "$$\n",
    "T = \\boldsymbol{w} \\cdot \\frac{1}{2}(\\boldsymbol{\\mu_1} - \\boldsymbol{\\mu_0}).\n",
    "$$\n",
    "\n",
    "![The Fisher most discriminant projection](images/fisher_linear_disc.png)"
   ]
  },
  {
   "cell_type": "markdown",
   "metadata": {},
   "source": [
    "## Linear discriminant analysis (LDA)\n",
    "\n",
    "Linear discriminant analysis (LDA) is a probabilistic generalization of Fisher's linear discriminant. It uses Bayes' rule to fix the threshold based on prior probabilities of classes. \n",
    "\n",
    "1. First compute the class-**conditional distributions** of $\\boldsymbol{x}$ given class $C_k$: $p(x|C_k) = \\mathcal{N}(\\boldsymbol{x}|\\boldsymbol{\\mu_k}, \\boldsymbol{S_W})$. Where $\\mathcal{N}(\\boldsymbol{x}|\\boldsymbol{\\mu_k}, \\boldsymbol{S_W})$ is the multivariate Gaussian distribution defined over a P-dimensional vector $x$ of continuous variables, which is given by\n",
    "\n",
    "$$\n",
    "\\mathcal{N}(\\boldsymbol{x}|\\boldsymbol{\\mu_k}, \\boldsymbol{S_W}) = \\frac{1}{(2\\pi)^{P/2}|\\boldsymbol{S_W}|^{1/2}}\\exp\\{-\\frac{1}{2} (\\boldsymbol{x} - \\boldsymbol{\\mu_k})^T \\boldsymbol{S_W}^{-1}(x - \\boldsymbol{\\mu_k})\\}\n",
    "$$\n",
    "\n",
    "2. Estimate the **prior probabilities** of class $k$, $p(C_k) = N_k/N$.\n",
    "\n",
    "3. Compute **posterior probabilities** (ie. the probability of a each class given a sample) combining conditional with priors using Bayes' rule:\n",
    "\n",
    "$$\n",
    "p(C_k|\\boldsymbol{x}) = \\frac{p(C_k) p(\\boldsymbol{x}|C_k)}{p(\\boldsymbol{x})}\n",
    "$$\n",
    "\n",
    "Where $p(x)$ is the marginal distribution obtained by suming of classes:\n",
    "As usual, the denominator\n",
    "in Bayes’ theorem can be found in terms of the quantities appearing in the\n",
    "numerator, because\n",
    "\n",
    "$$\n",
    "p(x) = \\sum_k p(\\boldsymbol{x}|C_k)p(C_k)\n",
    "$$\n",
    "\n",
    "4. Classify $\\boldsymbol{x}$ using the Maximum-a-Posteriori probability: $C_k= \\arg \\max_{C_k} p(C_k|\\boldsymbol{x})$\n",
    "\n",
    "LDA is a **generative model** since the class-conditional distributions cal be used to generate samples of each classes.\n",
    "\n",
    "LDA is useful to deal with imbalanced group sizes (eg.: $N_1 \\gg N_0$) since priors probabilities can be used to explicitly re-balance the classification by setting $p(C_0) = p(C_1) = 1/2$ or whatever seems relevant.\n",
    "\n",
    "LDA can be generalised to the multiclass case with $K>2$.\n",
    "\n",
    "With  $N_1 = N_0$, LDA lead to the same solution than Fisher's linear discriminant.\n",
    "\n",
    "### Exercise\n",
    "\n",
    "How many parameters are required to estimate to perform a LDA ?"
   ]
  },
  {
   "cell_type": "code",
   "execution_count": 2,
   "metadata": {
    "execution": {
     "iopub.execute_input": "2021-05-26T10:31:13.434228Z",
     "iopub.status.busy": "2021-05-26T10:31:13.432203Z",
     "iopub.status.idle": "2021-05-26T10:31:13.546898Z",
     "shell.execute_reply": "2021-05-26T10:31:13.549025Z"
    }
   },
   "outputs": [
    {
     "name": "stdout",
     "output_type": "stream",
     "text": [
      "Nb errors=10, error rate=0.05\n"
     ]
    }
   ],
   "source": [
    "from sklearn.discriminant_analysis import LinearDiscriminantAnalysis as LDA\n",
    "\n",
    "# Dataset 2 two multivariate normal\n",
    "n_samples, n_features = 100, 2\n",
    "mean0, mean1 = np.array([0, 0]), np.array([0, 2])\n",
    "Cov = np.array([[1, .8],[.8, 1]])\n",
    "np.random.seed(42)\n",
    "X0 = np.random.multivariate_normal(mean0, Cov, n_samples)\n",
    "X1 = np.random.multivariate_normal(mean1, Cov, n_samples)\n",
    "X = np.vstack([X0, X1])\n",
    "y = np.array([0] * X0.shape[0] + [1] * X1.shape[0])\n",
    "\n",
    "\n",
    "# LDA with scikit-learn\n",
    "lda = LDA()\n",
    "proj = lda.fit(X, y).transform(X)\n",
    "y_pred_lda = lda.predict(X)\n",
    "\n",
    "errors =  y_pred_lda != y\n",
    "print(\"Nb errors=%i, error rate=%.2f\" % (errors.sum(), errors.sum() / len(y_pred_lda)))"
   ]
  },
  {
   "cell_type": "markdown",
   "metadata": {},
   "source": [
    "## Logistic regression\n",
    "\n",
    "Logistic regression is called a generalized linear models. ie.: it is a linear model with a link function that maps the output of linear multiple regression to the posterior probability of class $1$ $p(1|x)$ using the logistic sigmoid function:\n",
    "\n",
    "$$\n",
    "p(1|\\boldsymbol{w, x_i}) = \\frac{1}{1 + \\exp(-\\boldsymbol{w} \\cdot \\boldsymbol{x_i})}\n",
    "$$"
   ]
  },
  {
   "cell_type": "code",
   "execution_count": 3,
   "metadata": {
    "execution": {
     "iopub.execute_input": "2021-05-26T10:31:13.560671Z",
     "iopub.status.busy": "2021-05-26T10:31:13.556127Z",
     "iopub.status.idle": "2021-05-26T10:31:14.208028Z",
     "shell.execute_reply": "2021-05-26T10:31:14.206239Z"
    }
   },
   "outputs": [
    {
     "data": {
      "text/plain": [
       "Text(0.5, 1.0, 'Logistic (sigmoid)')"
      ]
     },
     "execution_count": 1,
     "metadata": {},
     "output_type": "execute_result"
    },
    {
     "data": {
      "image/png": "[encoded data removed]",
      "text/plain": [
       "<Figure size 432x288 with 1 Axes>"
      ]
     },
     "metadata": {
      "needs_background": "light"
     },
     "output_type": "display_data"
    }
   ],
   "source": [
    "def logistic(x): return 1 / (1 + np.exp(-x))\n",
    "\n",
    "x = np.linspace(-6, 6, 100)\n",
    "plt.plot(x, logistic(x))\n",
    "plt.grid(True)\n",
    "plt.title('Logistic (sigmoid)')"
   ]
  },
  {
   "cell_type": "markdown",
   "metadata": {},
   "source": [
    "Logistic regression is a **discriminative model** since it focuses only on the posterior probability of each class $p(C_k|x)$. It only requires to estimate the $P$ weights of the $\\boldsymbol{w}$ vector. Thus it should be favoured over LDA with many input features. In small dimension and balanced situations it would provide similar predictions than LDA.\n",
    "\n",
    "However imbalanced group sizes cannot be explicitly controlled. It can be managed using a reweighting of the input samples."
   ]
  },
  {
   "cell_type": "code",
   "execution_count": 4,
   "metadata": {
    "execution": {
     "iopub.execute_input": "2021-05-26T10:31:14.221926Z",
     "iopub.status.busy": "2021-05-26T10:31:14.214055Z",
     "iopub.status.idle": "2021-05-26T10:31:14.263138Z",
     "shell.execute_reply": "2021-05-26T10:31:14.264711Z"
    }
   },
   "outputs": [
    {
     "name": "stdout",
     "output_type": "stream",
     "text": [
      "Nb errors=10, error rate=0.05\n",
      "[[-5.15  5.57]]\n"
     ]
    }
   ],
   "source": [
    "logreg = lm.LogisticRegression(penalty='none').fit(X, y)\n",
    "# This class implements regularized logistic regression.\n",
    "# C is the Inverse of regularization strength.\n",
    "# Large value => no regularization.\n",
    "\n",
    "logreg.fit(X, y)\n",
    "y_pred_logreg = logreg.predict(X)\n",
    "\n",
    "errors =  y_pred_logreg != y\n",
    "print(\"Nb errors=%i, error rate=%.2f\" % (errors.sum(), errors.sum() / len(y_pred_logreg)))\n",
    "print(logreg.coef_)"
   ]
  },
  {
   "cell_type": "markdown",
   "metadata": {},
   "source": [
    "### Exercise\n",
    "\n",
    "Explore the ``Logistic Regression`` parameters and proposes a solution in cases of highly imbalanced training dataset $N_1 \\gg N_0$  when we know that in reality both classes have the same probability $p(C_1) = p(C_0)$."
   ]
  },
  {
   "cell_type": "markdown",
   "metadata": {},
   "source": [
    "## Losses\n",
    "\n",
    "\n",
    "### Negative log likelihood or cross-entropy\n",
    "\n",
    "The **Loss function** for sample $i$ is the negative log of the probability:\n",
    "$$\n",
    "L(\\boldsymbol{w, x_i}, y_i) = \\begin{cases}\n",
    "        -\\log(p(1|w, \\boldsymbol{x_i}))  & \\text{if } y_i = 1\n",
    "        \\\\\n",
    "        -\\log(1 - p(1|w, \\boldsymbol{x_i})  & \\text{if } y_i = 0\n",
    "        \\end{cases}\n",
    "$$\n",
    "\n",
    "For the whole dataset $\\boldsymbol{X}, \\boldsymbol{y} = \\{\\boldsymbol{x_i}, y_i\\}$ the loss function to minimize $L(\\boldsymbol{w, X, y})$ is the negative negative log likelihood (nll) that can be simplied using a 0/1 coding of the label in the case of binary classification:\n",
    "\n",
    "\\begin{align}\n",
    "L(\\boldsymbol{w, X, y}) &= -\\log \\mathcal{L}(\\boldsymbol{w, X, y}) \\\\\n",
    "&= -\\log \\Pi_i\\{p(1|\\boldsymbol{w}, \\boldsymbol{x_i})^{y_i} (1 - p(1|\\boldsymbol{w}, \\boldsymbol{x_i})^{(1 - y_i)}\\}\\\\\n",
    "&=  \\sum_i\\{y_i \\log p(1|\\boldsymbol{w}, \\boldsymbol{x_i}) + (1 - y_i) \\log(1 - p(1|\\boldsymbol{w}, \\boldsymbol{x_i}))\\},\n",
    "\\end{align}\n",
    "\n",
    "This is known as the **cross-entropy** between the true label $y$ and the predicted probability $p$.\n",
    "\n",
    "For the logistic regression case, we have:\n",
    "$$\n",
    "L(\\boldsymbol{w, X, y}) = \\sum_i\\{y_i \\boldsymbol{w \\cdot x_i} - \\log(1 + \\exp(\\boldsymbol{w \\cdot x_i}))\\}\n",
    "$$\n",
    "\n",
    "This is solved by numerical method using the gradient of the loss:\n",
    "$$\n",
    "\\partial\\frac{L(\\boldsymbol{w, X, y})}{\\partial\\boldsymbol{w}} = \\sum_i \\boldsymbol{x_i} (y_i - p(1|\\boldsymbol{w}, \\boldsymbol{x_i}))\n",
    "$$\n",
    "\n",
    "See also [Scikit learn doc](https://scikit-learn.org/stable/modules/sgd.html#mathematical-formulation)\n",
    "\n",
    "### Hinge loss or $\\ell_1$ loss\n",
    "\n",
    "TODO"
   ]
  },
  {
   "cell_type": "markdown",
   "metadata": {},
   "source": [
    "## Overfitting\n",
    "\n",
    "VC dimension (for Vapnik–Chervonenkis dimension) is a measure of the **capacity** (complexity, expressive power, richness, or flexibility) of a statistical classification algorithm, defined as the cardinality of the largest set of points that the algorithm can shatter.\n",
    "\n",
    "Theorem: Linear classifier in $R^P$ have VC dimension of $P+1$. Hence in dimension two ($P=2$) any random partition of 3 points can be learned.\n",
    "\n",
    "![In 2D we can shatter any three non-collinear points](images/vc_dimension_linear_2d.png)"
   ]
  },
  {
   "cell_type": "markdown",
   "metadata": {},
   "source": [
    "## Regularization using penalization of coefficients\n",
    "\n",
    "The penalties use in regression are also used in classification. The only difference is the loss function generally the negative log likelihood (cross-entropy) or the hinge loss. We will explore:\n",
    "\n",
    "\n",
    "- Ridge (also called $\\ell_2$) penalty: $\\|\\mathbf{w}\\|_2^2$. It shrinks coefficients toward 0.\n",
    "- Lasso (also called $\\ell_1$) penalty: $\\|\\mathbf{w}\\|_1$. It performs feature selection by setting some coefficients to 0.\n",
    "- ElasticNet (also called $\\ell_1\\ell_2$) penalty: $\\alpha \\left(\\rho~\\|\\mathbf{w}\\|_1 + (1-\\rho)~\\|\\mathbf{w}\\|_2^2 \\right)$. It performs selection of group of correlated features by setting some coefficients to 0."
   ]
  },
  {
   "cell_type": "code",
   "execution_count": 5,
   "metadata": {
    "execution": {
     "iopub.execute_input": "2021-05-26T10:31:14.287396Z",
     "iopub.status.busy": "2021-05-26T10:31:14.279579Z",
     "iopub.status.idle": "2021-05-26T10:31:14.449205Z",
     "shell.execute_reply": "2021-05-26T10:31:14.451145Z"
    }
   },
   "outputs": [
    {
     "data": {
      "text/html": [
       "<div>\n",
       "<style scoped>\n",
       "    .dataframe tbody tr th:only-of-type {\n",
       "        vertical-align: middle;\n",
       "    }\n",
       "\n",
       "    .dataframe tbody tr th {\n",
       "        vertical-align: top;\n",
       "    }\n",
       "\n",
       "    .dataframe thead th {\n",
       "        text-align: right;\n",
       "    }\n",
       "</style>\n",
       "<table border=\"1\" class=\"dataframe\">\n",
       "  <thead>\n",
       "    <tr style=\"text-align: right;\">\n",
       "      <th></th>\n",
       "      <th>0</th>\n",
       "      <th>1</th>\n",
       "      <th>2</th>\n",
       "      <th>3</th>\n",
       "      <th>4</th>\n",
       "      <th>5</th>\n",
       "      <th>6</th>\n",
       "      <th>7</th>\n",
       "      <th>8</th>\n",
       "      <th>9</th>\n",
       "    </tr>\n",
       "  </thead>\n",
       "  <tbody>\n",
       "    <tr>\n",
       "      <th>lr</th>\n",
       "      <td>4.37e-02</td>\n",
       "      <td>1.14</td>\n",
       "      <td>-0.28</td>\n",
       "      <td>0.57</td>\n",
       "      <td>0.55</td>\n",
       "      <td>-0.03</td>\n",
       "      <td>0.17</td>\n",
       "      <td>0.37</td>\n",
       "      <td>-0.42</td>\n",
       "      <td>0.39</td>\n",
       "    </tr>\n",
       "    <tr>\n",
       "      <th>l2</th>\n",
       "      <td>-4.87e-02</td>\n",
       "      <td>0.52</td>\n",
       "      <td>-0.21</td>\n",
       "      <td>0.34</td>\n",
       "      <td>0.26</td>\n",
       "      <td>-0.05</td>\n",
       "      <td>0.14</td>\n",
       "      <td>0.27</td>\n",
       "      <td>-0.25</td>\n",
       "      <td>0.21</td>\n",
       "    </tr>\n",
       "    <tr>\n",
       "      <th>l1</th>\n",
       "      <td>0.00e+00</td>\n",
       "      <td>0.31</td>\n",
       "      <td>0.00</td>\n",
       "      <td>0.10</td>\n",
       "      <td>0.00</td>\n",
       "      <td>0.00</td>\n",
       "      <td>0.00</td>\n",
       "      <td>0.26</td>\n",
       "      <td>0.00</td>\n",
       "      <td>0.00</td>\n",
       "    </tr>\n",
       "    <tr>\n",
       "      <th>l1l2</th>\n",
       "      <td>-7.08e-03</td>\n",
       "      <td>0.41</td>\n",
       "      <td>-0.15</td>\n",
       "      <td>0.29</td>\n",
       "      <td>0.12</td>\n",
       "      <td>0.00</td>\n",
       "      <td>0.00</td>\n",
       "      <td>0.20</td>\n",
       "      <td>-0.10</td>\n",
       "      <td>0.06</td>\n",
       "    </tr>\n",
       "  </tbody>\n",
       "</table>\n",
       "</div>"
      ],
      "text/plain": [
       "             0     1     2     3     4     5     6     7     8     9\n",
       "lr    4.37e-02  1.14 -0.28  0.57  0.55 -0.03  0.17  0.37 -0.42  0.39\n",
       "l2   -4.87e-02  0.52 -0.21  0.34  0.26 -0.05  0.14  0.27 -0.25  0.21\n",
       "l1    0.00e+00  0.31  0.00  0.10  0.00  0.00  0.00  0.26  0.00  0.00\n",
       "l1l2 -7.08e-03  0.41 -0.15  0.29  0.12  0.00  0.00  0.20 -0.10  0.06"
      ]
     },
     "execution_count": 1,
     "metadata": {},
     "output_type": "execute_result"
    }
   ],
   "source": [
    "# Dataset with some correlation\n",
    "X, y = datasets.make_classification(n_samples=100, n_features=10,\n",
    "                                          n_informative=5, n_redundant=3,\n",
    "                                          n_classes=2, random_state=3, shuffle=False)\n",
    "\n",
    "lr = lm.LogisticRegression(penalty='none').fit(X, y)\n",
    "\n",
    "l2 = lm.LogisticRegression(penalty='l2', C=.1).fit(X, y)  # lambda = 1 / C!\n",
    "\n",
    "# use solver 'saga' to handle L1 penalty\n",
    "l1 = lm.LogisticRegression(penalty='l1', C=.1, solver='saga').fit(X, y)  # lambda = 1 / C!\n",
    "\n",
    "l1l2 = lm.LogisticRegression(penalty='elasticnet',  C=.1, l1_ratio=0.5, solver='saga').fit(X, y)  # lambda = 1 / C!\n",
    "\n",
    "\n",
    "pd.DataFrame(np.vstack((lr.coef_, l2.coef_, l1.coef_, l1l2.coef_)),\n",
    "             index=['lr', 'l2', 'l1', 'l1l2'])"
   ]
  },
  {
   "cell_type": "markdown",
   "metadata": {},
   "source": [
    "## Ridge Fisher's linear classification ($\\ell_2$-regularization)\n",
    "\n",
    "When the matrix $\\boldsymbol{S_W}$ is not full rank or $P \\gg N$, the The Fisher most discriminant projection estimate of the is not unique. This can be solved using a biased version of $\\boldsymbol{S_W}$:\n",
    "$$\n",
    "\\boldsymbol{S_W}^{Ridge} = \\boldsymbol{S_W} + \\lambda \\boldsymbol{I}\n",
    "$$\n",
    "\n",
    "where $I$ is the $P \\times P$ identity matrix. This leads to the regularized (ridge) estimator of the Fisher's linear discriminant analysis: \n",
    "$$\n",
    "    \\boldsymbol{w}^{Ridge} \\propto (\\boldsymbol{S_W} + \\lambda \\boldsymbol{I})^{-1}(\\boldsymbol{\\mu_1} - \\boldsymbol{\\mu_0})\n",
    "$$\n",
    "\n",
    "![The Ridge Fisher most discriminant projection](images/ridge_fisher_linear_disc.png)\n",
    "\n",
    "Increasing $\\lambda$ will:\n",
    "\n",
    "- Shrinks the coefficients toward zero.\n",
    "- The covariance will converge toward the diagonal matrix, reducing the contribution of the pairwise covariances."
   ]
  },
  {
   "cell_type": "markdown",
   "metadata": {},
   "source": [
    "## Ridge logistic regression ($\\ell_2$-regularization)\n",
    "\n",
    "The **objective function** to be minimized is now the combination of the logistic loss (negative log likelyhood) $-\\log \\mathcal{L}(\\boldsymbol{w})$ with a penalty of the L2 norm of the weights vector. In the two-class case, using the 0/1 coding we obtain:\n",
    "\n",
    "$$\n",
    "\\min_{\\boldsymbol{w}}~\\text{Logistic ridge}(\\boldsymbol{w}) = -\\log \\mathcal{L}(\\boldsymbol{w, X, y}) + \\lambda~\\|\\boldsymbol{w}\\|^2\n",
    "$$"
   ]
  },
  {
   "cell_type": "code",
   "execution_count": 6,
   "metadata": {
    "execution": {
     "iopub.execute_input": "2021-05-26T10:31:14.461726Z",
     "iopub.status.busy": "2021-05-26T10:31:14.459893Z",
     "iopub.status.idle": "2021-05-26T10:31:14.522381Z",
     "shell.execute_reply": "2021-05-26T10:31:14.523962Z"
    }
   },
   "outputs": [
    {
     "name": "stdout",
     "output_type": "stream",
     "text": [
      "Probas of 5 first samples for class 0 and class 1:\n",
      "[[0.89 0.11]\n",
      " [0.72 0.28]\n",
      " [0.73 0.27]\n",
      " [0.75 0.25]\n",
      " [0.48 0.52]]\n",
      "Coef vector:\n",
      "[[-0.05  0.52 -0.21  0.34  0.26 -0.05  0.14  0.27 -0.25  0.21]]\n",
      "Diff 0.0\n",
      "Nb errors=24, error rate=0.24\n"
     ]
    }
   ],
   "source": [
    "from sklearn import linear_model\n",
    "lrl2 = linear_model.LogisticRegression(penalty='l2', C=.1)\n",
    "# This class implements regularized logistic regression. C is the Inverse of regularization strength.\n",
    "# Large value => no regularization.\n",
    "\n",
    "lrl2.fit(X, y)\n",
    "y_pred_l2 = lrl2.predict(X)\n",
    "prob_pred_l2 = lrl2.predict_proba(X)\n",
    "\n",
    "print(\"Probas of 5 first samples for class 0 and class 1:\")\n",
    "print(prob_pred_l2[:5, :])\n",
    "\n",
    "print(\"Coef vector:\")\n",
    "print(lrl2.coef_)\n",
    "\n",
    "# Retrieve proba from coef vector\n",
    "probas = 1 / (1 + np.exp(- (np.dot(X, lrl2.coef_.T) + lrl2.intercept_))).ravel()\n",
    "print(\"Diff\", np.max(np.abs(prob_pred_l2[:, 1] - probas)))\n",
    "\n",
    "errors =  y_pred_l2 != y\n",
    "print(\"Nb errors=%i, error rate=%.2f\" % (errors.sum(), errors.sum() / len(y)))"
   ]
  },
  {
   "cell_type": "markdown",
   "metadata": {},
   "source": [
    "## Lasso logistic regression ($\\ell_1$-regularization)\n",
    "\n",
    "The **objective function** to be minimized is now the combination of the logistic loss $-\\log \\mathcal{L}(\\boldsymbol{w})$ with a penalty of the L1 norm of the weights vector. In the two-class case, using the 0/1 coding we obtain:\n",
    "\n",
    "$$\n",
    "\\min_{\\boldsymbol{w}}~\\text{Logistic Lasso}(w) = -\\log \\mathcal{L}(\\boldsymbol{w, X, y}) + \\lambda~\\|\\boldsymbol{w}\\|_1\n",
    "$$"
   ]
  },
  {
   "cell_type": "code",
   "execution_count": 7,
   "metadata": {
    "execution": {
     "iopub.execute_input": "2021-05-26T10:31:14.535775Z",
     "iopub.status.busy": "2021-05-26T10:31:14.533538Z",
     "iopub.status.idle": "2021-05-26T10:31:14.581602Z",
     "shell.execute_reply": "2021-05-26T10:31:14.574119Z"
    }
   },
   "outputs": [
    {
     "name": "stdout",
     "output_type": "stream",
     "text": [
      "Nb errors=27, error rate=0.27\n",
      "Coef vector:\n",
      "[[0.   0.31 0.   0.1  0.   0.   0.   0.26 0.   0.  ]]\n"
     ]
    }
   ],
   "source": [
    "from sklearn import linear_model\n",
    "lrl1 = lm.LogisticRegression(penalty='l1', C=.1, solver='saga') # lambda = 1 / C!\n",
    "\n",
    "# This class implements regularized logistic regression. C is the Inverse of regularization strength.\n",
    "# Large value => no regularization.\n",
    "\n",
    "lrl1.fit(X, y)\n",
    "y_pred_lrl1 = lrl1.predict(X)\n",
    "\n",
    "errors =  y_pred_lrl1 != y\n",
    "print(\"Nb errors=%i, error rate=%.2f\" % (errors.sum(), errors.sum() / len(y_pred_lrl1)))\n",
    "\n",
    "print(\"Coef vector:\")\n",
    "print(lrl1.coef_)"
   ]
  },
  {
   "cell_type": "markdown",
   "metadata": {},
   "source": [
    "## Ridge linear Support Vector Machine ($\\ell_2$-regularization)\n",
    "\n",
    "Support Vector Machine seek for separating hyperplane with maximum margin to enforce robustness against noise. Like logistic regression it is a **discriminative method** that only focuses of predictions.\n",
    "\n",
    "Here we present the non separable case of Maximum Margin Classifiers with $\\pm 1$ coding (ie.: $y_i \\ \\{-1, +1\\}$). In the next figure the legend aply to samples of \"dot\" class. \n",
    "\n",
    "![Linear lar margin classifiers](images/svm.png)\n",
    "\n",
    "Linear SVM for classification (also called SVM-C or SVC) minimizes:\n",
    "\n",
    "$$\n",
    "\\begin{array}{lll}\n",
    "\\text{min}   & \\text{Linear SVM}(\\boldsymbol{w}) &= \\text{penalty}(w) +  C~\\text{Hinge loss}(w)\\\\\n",
    "             & & = \\|w\\|_2^2 + C~\\sum_i^N\\xi_i\\\\\n",
    "\\text{with}  & \\forall i & y_i (w \\cdot \\boldsymbol{x_i}) \\geq 1 - \\xi_i\n",
    "\\end{array}\n",
    "$$\n",
    "\n",
    "Here we introduced the slack variables: $\\xi_i$, with $\\xi_i = 0$ for points that are on or inside the correct margin boundary and $\\xi_i = |y_i - (w \\ cdot  \\cdot \\boldsymbol{x_i})|$ for other points. Thus:\n",
    "\n",
    "1. If $y_i (w \\cdot \\boldsymbol{x_i}) \\geq 1$ then the point lies outside the margin but on the correct side of the decision boundary. In this case $\\xi_i=0$. The constraint is thus not active for this point. It does not contribute to the prediction.\n",
    "\n",
    "2. If $1 > y_i (w \\cdot \\boldsymbol{x_i}) \\geq 0$ then the point lies inside the margin and on the correct side of the decision boundary. In this case $0<\\xi_i \\leq 1$. The constraint is active for this point. It does contribute to the prediction as a support vector.\n",
    "\n",
    "3. If $0 <  y_i (w \\cdot \\boldsymbol{x_i})$) then the point is on the wrong side of the decision boundary (missclassification). In this case $0<\\xi_i > 1$. The constraint is active for this point. It does contribute to the prediction as a support vector.\n",
    "\n",
    "This loss is called the hinge loss, defined as:\n",
    "\n",
    "$$\n",
    "\\max(0, 1 - y_i~ (w \\cdot \\boldsymbol{x_i}))\n",
    "$$\n",
    "\n",
    "So linear SVM is closed to Ridge logistic regression, using the hinge loss instead of the logistic loss. Both will provide very similar predictions."
   ]
  },
  {
   "cell_type": "code",
   "execution_count": 8,
   "metadata": {
    "execution": {
     "iopub.execute_input": "2021-05-26T10:31:14.601454Z",
     "iopub.status.busy": "2021-05-26T10:31:14.599648Z",
     "iopub.status.idle": "2021-05-26T10:31:14.617025Z",
     "shell.execute_reply": "2021-05-26T10:31:14.615862Z"
    }
   },
   "outputs": [
    {
     "name": "stdout",
     "output_type": "stream",
     "text": [
      "Nb errors=20, error rate=0.20\n",
      "Coef vector:\n",
      "[[-0.    0.32 -0.09  0.17  0.16 -0.01  0.06  0.13 -0.16  0.13]]\n"
     ]
    }
   ],
   "source": [
    "from sklearn import svm\n",
    "\n",
    "svmlin = svm.LinearSVC(C=.1)\n",
    "# Remark: by default LinearSVC uses squared_hinge as loss\n",
    "svmlin.fit(X, y)\n",
    "y_pred_svmlin = svmlin.predict(X)\n",
    "\n",
    "errors =  y_pred_svmlin != y\n",
    "print(\"Nb errors=%i, error rate=%.2f\" % (errors.sum(), errors.sum() / len(y_pred_svmlin)))\n",
    "print(\"Coef vector:\")\n",
    "print(svmlin.coef_)"
   ]
  },
  {
   "cell_type": "markdown",
   "metadata": {},
   "source": [
    "## Lasso linear Support Vector Machine ($\\ell_1$-regularization)\n",
    "\n",
    "Linear SVM for classification (also called SVM-C or SVC) with l1-regularization\n",
    "\n",
    "$$\n",
    "\\begin{array}{lll}\n",
    "\\text{min}   & F_{\\text{Lasso linear SVM}}(w) &= ||w||_1 + C~\\sum_i^N\\xi_i\\\\\n",
    "\\text{with}  & \\forall i & y_i (w \\cdot \\boldsymbol{x_i}) \\geq 1 - \\xi_i\n",
    "\\end{array}\n",
    "$$"
   ]
  },
  {
   "cell_type": "code",
   "execution_count": 9,
   "metadata": {
    "execution": {
     "iopub.execute_input": "2021-05-26T10:31:14.633124Z",
     "iopub.status.busy": "2021-05-26T10:31:14.631485Z",
     "iopub.status.idle": "2021-05-26T10:31:14.642667Z",
     "shell.execute_reply": "2021-05-26T10:31:14.641021Z"
    }
   },
   "outputs": [
    {
     "name": "stdout",
     "output_type": "stream",
     "text": [
      "Nb errors=20, error rate=0.20\n",
      "Coef vector:\n",
      "[[-0.01  0.37 -0.12  0.24  0.17  0.    0.    0.1  -0.16  0.13]]\n"
     ]
    }
   ],
   "source": [
    "from sklearn import svm\n",
    "\n",
    "svmlinl1 = svm.LinearSVC(penalty='l1', dual=False)\n",
    "# Remark: by default LinearSVC uses squared_hinge as loss\n",
    "\n",
    "svmlinl1.fit(X, y)\n",
    "y_pred_svmlinl1 = svmlinl1.predict(X)\n",
    "\n",
    "errors =  y_pred_svmlinl1 != y\n",
    "print(\"Nb errors=%i, error rate=%.2f\" % (errors.sum(), errors.sum() / len(y_pred_svmlinl1)))\n",
    "print(\"Coef vector:\")\n",
    "print(svmlinl1.coef_)"
   ]
  },
  {
   "cell_type": "markdown",
   "metadata": {},
   "source": [
    "## Exercise\n",
    "\n",
    "Compare predictions of Logistic regression (LR) and their SVM counterparts, ie.: L2 LR vs L2 SVM and L1 LR vs L1 SVM\n",
    "\n",
    "- Compute the correlation between pairs of weights vectors.\n",
    "\n",
    "- Compare the predictions of two classifiers using their decision function:\n",
    "\n",
    "    * Give the equation of the decision function for a linear classifier, assuming that their is no intercept.\n",
    "    * Compute the correlation decision function.\n",
    "    * Plot the pairwise decision function of the classifiers.\n",
    "\n",
    "- Conclude on the differences between Linear SVM and logistic regression."
   ]
  },
  {
   "cell_type": "markdown",
   "metadata": {},
   "source": [
    "## Elastic-net classification ($\\ell_1\\ell_2$-regularization)\n",
    "\n",
    "The **objective function** to be minimized is now the combination of the logistic loss $\\log L(\\boldsymbol{w})$ or the hinge loss with combination of L1 and L2 penalties. In the two-class case, using the 0/1 coding we obtain:\n",
    "\n",
    "\\begin{align}\n",
    "\\min~\\text{Logistic enet}(\\boldsymbol{w}) &= -\\log \\mathcal{L}(\\boldsymbol{w, X, y}) + \\alpha~\\left(\\rho~\\|\\boldsymbol{w}\\|_1 + (1-\\rho)~\\|\\boldsymbol{w}\\|_2^2 \\right)\\\\\n",
    "\\min~\\text{Hinge enet}(\\boldsymbol{w}) &= \\text{Hinge loss}(\\boldsymbol{w}) + \\alpha~\\left(\\rho~\\|\\boldsymbol{w}\\|_1 + (1-\\rho)~\\|\\boldsymbol{w}\\|_2^2 \\right)\n",
    "\\end{align}"
   ]
  },
  {
   "cell_type": "code",
   "execution_count": 10,
   "metadata": {
    "execution": {
     "iopub.execute_input": "2021-05-26T10:31:14.660955Z",
     "iopub.status.busy": "2021-05-26T10:31:14.659070Z",
     "iopub.status.idle": "2021-05-26T10:31:15.090433Z",
     "shell.execute_reply": "2021-05-26T10:31:15.087605Z"
    }
   },
   "outputs": [
    {
     "name": "stdout",
     "output_type": "stream",
     "text": [
      "Hinge loss and logistic loss provide almost the same predictions.\n",
      "Confusion matrix\n",
      "Decision_function log x hinge losses:\n"
     ]
    },
    {
     "data": {
      "image/png": "[encoded data removed]",
      "text/plain": [
       "<Figure size 432x288 with 1 Axes>"
      ]
     },
     "metadata": {
      "needs_background": "light"
     },
     "output_type": "display_data"
    }
   ],
   "source": [
    "# Use SGD solver\n",
    "enetlog = lm.SGDClassifier(loss=\"log\", penalty=\"elasticnet\",\n",
    "                            alpha=0.1, l1_ratio=0.5, random_state=42)\n",
    "enetlog.fit(X, y)\n",
    "\n",
    "# Or saga solver:\n",
    "# enetloglike = lm.LogisticRegression(penalty='elasticnet',\n",
    "#                                    C=.1, l1_ratio=0.5, solver='saga')\n",
    "\n",
    "enethinge = lm.SGDClassifier(loss=\"hinge\", penalty=\"elasticnet\",\n",
    "                            alpha=0.1, l1_ratio=0.5, random_state=42)\n",
    "enethinge.fit(X, y)\n",
    "\n",
    "print(\"Hinge loss and logistic loss provide almost the same predictions.\")\n",
    "print(\"Confusion matrix\")\n",
    "metrics.confusion_matrix(enetlog.predict(X), enethinge.predict(X))\n",
    "\n",
    "print(\"Decision_function log x hinge losses:\")\n",
    "_ = plt.plot(enetlog.decision_function(X),\n",
    "             enethinge.decision_function(X), \"o\")"
   ]
  },
  {
   "cell_type": "markdown",
   "metadata": {},
   "source": [
    "## Classification performance evaluation metrics\n",
    "\n",
    "source: https://en.wikipedia.org/wiki/Sensitivity_and_specificity\n",
    "\n",
    "Imagine a study evaluating a new test that screens people for a disease. Each person taking the test either has or does not have the disease. The test outcome can be positive (classifying the person as having the disease) or negative (classifying the person as not having the disease). The test results for each subject may or may not match the subject's actual status. In that setting:\n",
    "\n",
    "- True positive (TP): Sick people correctly identified as sick\n",
    "\n",
    "- False positive (FP): Healthy people incorrectly identified as sick\n",
    "\n",
    "- True negative (TN): Healthy people correctly identified as healthy\n",
    "\n",
    "- False negative (FN): Sick people incorrectly identified as healthy\n",
    "\n",
    "- **Accuracy** (ACC):\n",
    "\n",
    "    ACC = (TP + TN) / (TP + FP + FN + TN)\n",
    "\n",
    "\n",
    "- **Sensitivity** (SEN) or **recall** of the positive class or true positive rate (TPR) or hit rate:\n",
    "\n",
    "    SEN = TP / P = TP / (TP+FN)\n",
    "\n",
    "\n",
    "- **Specificity** (SPC) or **recall** of the negative class or true negative rate:\n",
    "\n",
    "    SPC = TN / N = TN / (TN+FP) \n",
    "\n",
    "\n",
    "- **Precision** or positive predictive value (PPV):\n",
    "\n",
    "    PPV = TP / (TP + FP)\n",
    "\n",
    "\n",
    "- **Balanced accuracy** (bACC):is a useful performance measure is the balanced accuracy which avoids inflated performance estimates on imbalanced datasets (Brodersen, et al. (2010). \"The balanced accuracy and its posterior distribution\"). It is defined as the arithmetic mean of sensitivity and specificity, or the average accuracy obtained on either class:\n",
    "\n",
    "    bACC = 1/2 * (SEN + SPC) \n",
    "\n",
    "- F1 Score (or F-score) which is a weighted average of precision and recall are usefull to deal with imballaced datasets\n",
    "    \n",
    "The four outcomes can be formulated in a 2×2 contingency table or confusion matrix https://en.wikipedia.org/wiki/Sensitivity_and_specificity\n",
    "\n",
    "For more precision see: http://scikit-learn.org/stable/modules/model_evaluation.html"
   ]
  },
  {
   "cell_type": "code",
   "execution_count": 11,
   "metadata": {
    "execution": {
     "iopub.execute_input": "2021-05-26T10:31:15.123265Z",
     "iopub.status.busy": "2021-05-26T10:31:15.114807Z",
     "iopub.status.idle": "2021-05-26T10:31:15.133313Z",
     "shell.execute_reply": "2021-05-26T10:31:15.134909Z"
    }
   },
   "outputs": [],
   "source": [
    "from sklearn import metrics\n",
    "y_pred = [0, 1, 0, 0]\n",
    "y_true = [0, 1, 0, 1]\n",
    "\n",
    "metrics.accuracy_score(y_true, y_pred)\n",
    "\n",
    "# The overall precision an recall\n",
    "metrics.precision_score(y_true, y_pred)\n",
    "metrics.recall_score(y_true, y_pred)\n",
    "\n",
    "# Recalls on individual classes: SEN & SPC\n",
    "recalls = metrics.recall_score(y_true, y_pred, average=None)\n",
    "recalls[0] # is the recall of class 0: specificity\n",
    "recalls[1] # is the recall of class 1: sensitivity\n",
    "\n",
    "# Balanced accuracy\n",
    "b_acc = recalls.mean()\n",
    "\n",
    "# The overall precision an recall on each individual class\n",
    "p, r, f, s = metrics.precision_recall_fscore_support(y_true, y_pred)"
   ]
  },
  {
   "cell_type": "markdown",
   "metadata": {},
   "source": [
    "### Significance of classification rate\n",
    "\n",
    "P-value associated to classification rate. Compared the number of correct classifications (=accuracy $\\times N$) to the null hypothesis of Binomial distribution of parameters $p$ (typically 50% of chance level) and $N$ (Number of observations).\n",
    "\n",
    "Is 65% of accuracy a significant prediction rate among 70 observations?\n",
    "\n",
    "Since this is an exact, **two-sided** test of the null hypothesis, the p-value can be divided by 2 since we test that the accuracy is superior to the chance level."
   ]
  },
  {
   "cell_type": "code",
   "execution_count": 12,
   "metadata": {
    "execution": {
     "iopub.execute_input": "2021-05-26T10:31:15.151971Z",
     "iopub.status.busy": "2021-05-26T10:31:15.150310Z",
     "iopub.status.idle": "2021-05-26T10:31:15.161869Z",
     "shell.execute_reply": "2021-05-26T10:31:15.158845Z"
    }
   },
   "outputs": [
    {
     "name": "stdout",
     "output_type": "stream",
     "text": [
      "0.01123144774625465\n"
     ]
    }
   ],
   "source": [
    "import scipy.stats\n",
    "\n",
    "acc, N = 0.65, 70\n",
    "pval = scipy.stats.binom_test(x=int(acc * N), n=N, p=0.5) / 2\n",
    "print(pval)"
   ]
  },
  {
   "cell_type": "markdown",
   "metadata": {},
   "source": [
    "### Area Under Curve (AUC) of Receiver operating characteristic (ROC)\n",
    "\n",
    "Some classifier may have found a good discriminative projection $w$. However if the threshold to decide the final predicted class is poorly adjusted, the performances will highlight an high specificity and a low sensitivity or the contrary.\n",
    "\n",
    "In this case it is recommended to use the AUC of a ROC analysis which basically provide a measure of overlap of the two classes when points are projected on the discriminative axis. For more detail on ROC and AUC see:https://en.wikipedia.org/wiki/Receiver_operating_characteristic."
   ]
  },
  {
   "cell_type": "code",
   "execution_count": 13,
   "metadata": {
    "execution": {
     "iopub.execute_input": "2021-05-26T10:31:15.176273Z",
     "iopub.status.busy": "2021-05-26T10:31:15.174397Z",
     "iopub.status.idle": "2021-05-26T10:31:15.198468Z",
     "shell.execute_reply": "2021-05-26T10:31:15.200390Z"
    }
   },
   "outputs": [
    {
     "name": "stdout",
     "output_type": "stream",
     "text": [
      "With a threshold of 0.90, the rule always predict 0. Predictions:\n",
      "[0 0 0 0 0 0 0 0]\n",
      "Recalls on individual classes are: [1. 0.] ie, 100% of specificity, 0% of sensitivity\n",
      "But the AUC of 1.00 demonstrate a good classes separation.\n"
     ]
    }
   ],
   "source": [
    "score_pred = np.array([.1 ,.2, .3, .4, .5, .6, .7, .8])\n",
    "y_true = np.array([0, 0, 0, 0, 1, 1, 1, 1])\n",
    "thres = .9\n",
    "y_pred = (score_pred > thres).astype(int)\n",
    "\n",
    "print(\"With a threshold of %.2f, the rule always predict 0. Predictions:\" % thres)\n",
    "print(y_pred)\n",
    "metrics.accuracy_score(y_true, y_pred)\n",
    "\n",
    "# The overall precision an recall on each individual class\n",
    "r = metrics.recall_score(y_true, y_pred, average=None)\n",
    "print(\"Recalls on individual classes are:\", r, \"ie, 100% of specificity, 0% of sensitivity\")\n",
    "\n",
    "# However AUC=1 indicating a perfect separation of the two classes\n",
    "auc = metrics.roc_auc_score(y_true, score_pred)\n",
    "print(\"But the AUC of %.2f demonstrate a good classes separation.\" % auc)"
   ]
  },
  {
   "cell_type": "markdown",
   "metadata": {},
   "source": [
    "## Imbalanced classes\n",
    "\n",
    "Learning with discriminative (logistic regression, SVM) methods is generally based on minimizing the misclassification of training samples, which may be unsuitable for imbalanced datasets where the recognition might be biased in favor of\n",
    "the most numerous class. This problem can be addressed with a generative approach, which typically requires\n",
    "more parameters to be determined leading to reduced performances in high dimension.\n",
    "\n",
    "Dealing with imbalanced class may be addressed by three main ways (see Japkowicz and Stephen (2002) for a review), resampling, reweighting and one class learning.\n",
    "\n",
    "In **sampling strategies**, either the minority class is oversampled or majority class is undersampled or some combination of the two is deployed. Undersampling (Zhang and Mani, 2003) the majority class would lead to a poor usage of the left-out samples. Sometime one cannot afford such strategy since we are also facing a small sample size problem even for the majority class.\n",
    "Informed oversampling, which goes beyond a trivial duplication of minority class samples, requires the estimation of class conditional distributions in order to generate synthetic samples. Here generative models are required. An alternative, proposed in (Chawla et al., 2002) generate samples along the line segments joining any/all of the k minority class nearest neighbors. Such procedure blindly generalizes the minority area without regard to the majority class, which may be particularly problematic with high-dimensional and potentially skewed class distribution. \n",
    "\n",
    "**Reweighting**, also called cost-sensitive learning, works at an algorithmic level by adjusting the costs of the various classes to counter the class imbalance. Such reweighting can be implemented within SVM (Chang and Lin, 2001) or logistic regression (Friedman et al., 2010) classifiers. Most classifiers of Scikit learn offer such reweighting possibilities. \n",
    "\n",
    "The ``class_weight`` parameter can be positioned into the ``\"balanced\"`` mode which uses the values of $y$ to automatically adjust weights inversely proportional to class frequencies in the input data as $N / (2 N_k)$."
   ]
  },
  {
   "cell_type": "code",
   "execution_count": 14,
   "metadata": {
    "execution": {
     "iopub.execute_input": "2021-05-26T10:31:15.233203Z",
     "iopub.status.busy": "2021-05-26T10:31:15.231406Z",
     "iopub.status.idle": "2021-05-26T10:31:15.304604Z",
     "shell.execute_reply": "2021-05-26T10:31:15.306355Z"
    }
   },
   "outputs": [
    {
     "name": "stdout",
     "output_type": "stream",
     "text": [
      "#samples of class 0 = 250; #samples of class 1 = 250;\n",
      "# No Reweighting balanced dataset\n",
      "SPC: 0.940; SEN: 0.928\n",
      "# => The predictions are balanced in sensitivity and specificity\n",
      "\n",
      "#samples of class 0 = 12; #samples of class 1 = 250;\n",
      "# No Reweighting on imbalanced dataset\n",
      "SPC: 0.750; SEN: 0.996\n",
      "# => Sensitivity >> specificity\n",
      "\n",
      "# Reweighting on imbalanced dataset\n",
      "SPC: 1.000; SEN: 0.980\n",
      "# => The predictions are balanced in sensitivity and specificity\n",
      "\n"
     ]
    }
   ],
   "source": [
    "# dataset\n",
    "X, y = datasets.make_classification(n_samples=500,\n",
    "                           n_features=5,\n",
    "                           n_informative=2,\n",
    "                           n_redundant=0,\n",
    "                           n_repeated=0,\n",
    "                           n_classes=2,\n",
    "                           random_state=1,\n",
    "                           shuffle=False)\n",
    "\n",
    "print(*[\"#samples of class %i = %i;\" % (lev, np.sum(y == lev)) for lev in np.unique(y)])\n",
    "\n",
    "print('# No Reweighting balanced dataset')\n",
    "lr_inter = linear_model.LogisticRegression(C=1)\n",
    "lr_inter.fit(X, y)\n",
    "p, r, f, s = metrics.precision_recall_fscore_support(y, lr_inter.predict(X))\n",
    "print(\"SPC: %.3f; SEN: %.3f\" % tuple(r))\n",
    "print('# => The predictions are balanced in sensitivity and specificity\\n')\n",
    "\n",
    "# Create imbalanced dataset, by subsampling sample of class 0: keep only 10% of\n",
    "# class 0's samples and all class 1's samples.\n",
    "n0 = int(np.rint(np.sum(y == 0) / 20))\n",
    "subsample_idx = np.concatenate((np.where(y == 0)[0][:n0], np.where(y == 1)[0]))\n",
    "Ximb = X[subsample_idx, :]\n",
    "yimb = y[subsample_idx]\n",
    "print(*[\"#samples of class %i = %i;\" % (lev, np.sum(yimb == lev)) for lev in \n",
    "        np.unique(yimb)])\n",
    "\n",
    "print('# No Reweighting on imbalanced dataset')\n",
    "lr_inter = linear_model.LogisticRegression(C=1)\n",
    "lr_inter.fit(Ximb, yimb)\n",
    "p, r, f, s = metrics.precision_recall_fscore_support(yimb, lr_inter.predict(Ximb))\n",
    "print(\"SPC: %.3f; SEN: %.3f\" % tuple(r))\n",
    "print('# => Sensitivity >> specificity\\n')\n",
    "\n",
    "print('# Reweighting on imbalanced dataset')\n",
    "lr_inter_reweight = linear_model.LogisticRegression(C=1, class_weight=\"balanced\")\n",
    "lr_inter_reweight.fit(Ximb, yimb)\n",
    "p, r, f, s = metrics.precision_recall_fscore_support(yimb, \n",
    "                                                     lr_inter_reweight.predict(Ximb))\n",
    "print(\"SPC: %.3f; SEN: %.3f\" % tuple(r))\n",
    "print('# => The predictions are balanced in sensitivity and specificity\\n')"
   ]
  },
  {
   "cell_type": "markdown",
   "metadata": {},
   "source": [
    "## Exercise\n",
    "\n",
    "### Fisher linear discriminant rule\n",
    "\n",
    "Write a class ``FisherLinearDiscriminant`` that implements the Fisher's linear discriminant analysis. This class must be compliant with the scikit-learn API by providing two methods: \n",
    "- ``fit(X, y)`` which fits the model and returns the object itself;\n",
    "- ``predict(X)`` which returns a vector of the predicted values.\n",
    "Apply the object on the dataset presented for the LDA."
   ]
  }
 ],
 "metadata": {
  "anaconda-cloud": {},
  "kernelspec": {
   "display_name": "Python 3.8.2 64-bit ('py3': conda)",
   "name": "python382jvsc74a57bd0709d3ca2490817017d1d55fe0d38852f5a7364fbadc1171160241f26c85a81b1"
  },
  "language_info": {
   "codemirror_mode": {
    "name": "ipython",
    "version": 3
   },
   "file_extension": ".py",
   "mimetype": "text/x-python",
   "name": "python",
   "nbconvert_exporter": "python",
   "pygments_lexer": "ipython3",
   "version": "3.8.2"
  },
  "metadata": {
   "interpreter": {
    "hash": "709d3ca2490817017d1d55fe0d38852f5a7364fbadc1171160241f26c85a81b1"
   }
  }
 },
 "nbformat": 4,
 "nbformat_minor": 2
}
